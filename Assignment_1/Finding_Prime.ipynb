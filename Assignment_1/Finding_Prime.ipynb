{
  "nbformat": 4,
  "nbformat_minor": 0,
  "metadata": {
    "colab": {
      "provenance": []
    },
    "kernelspec": {
      "name": "python3",
      "display_name": "Python 3"
    },
    "language_info": {
      "name": "python"
    }
  },
  "cells": [
    {
      "cell_type": "code",
      "execution_count": 1,
      "metadata": {
        "colab": {
          "base_uri": "https://localhost:8080/"
        },
        "id": "3PwPpX6UOJ-2",
        "outputId": "0411314e-a0c2-4b11-c58a-b7a144f00aab"
      },
      "outputs": [
        {
          "output_type": "stream",
          "name": "stdout",
          "text": [
            "Mounted at /content/drive\n"
          ]
        }
      ],
      "source": [
        "from google.colab import drive\n",
        "drive.mount('/content/drive')"
      ]
    },
    {
      "cell_type": "code",
      "source": [
        "import csv\n",
        "import math\n",
        "def is_prime(n):\n",
        "    if n < 2:\n",
        "        return False\n",
        "    for i in range(2, int(math.isqrt(n)) + 1):\n",
        "        if n % i == 0:\n",
        "            return False\n",
        "    return True\n",
        "input_path = '/content/drive/MyDrive/cryptography_assignment/inputSet.csv'\n",
        "output_path = '/content/drive/MyDrive/cryptography_assignment/OutPutSet.csv'\n",
        "ranges = []\n",
        "with open(input_path, 'r') as infile:\n",
        "    reader = csv.reader(infile)\n",
        "    next(reader)\n",
        "    for row in reader:\n",
        "        start, end = map(int, row)\n",
        "        ranges.append((start, end))\n",
        "results = []\n",
        "for start, end in ranges:\n",
        "    prime_count = 0\n",
        "    for num in range(start, end + 1):\n",
        "        if is_prime(num):\n",
        "            prime_count += 1\n",
        "    results.append((start, end, prime_count))\n",
        "with open(output_path, 'w', newline='') as outfile:\n",
        "    writer = csv.writer(outfile)\n",
        "    writer.writerow(['Start', 'End', 'PrimeCount'])\n",
        "    writer.writerows(results)\n",
        "\n",
        "print(\" Prime counts written to\", output_path)\n"
      ],
      "metadata": {
        "colab": {
          "base_uri": "https://localhost:8080/"
        },
        "id": "etuiAqnTT558",
        "outputId": "c3d8abe5-04a8-49fe-fe58-0113447834ec"
      },
      "execution_count": 2,
      "outputs": [
        {
          "output_type": "stream",
          "name": "stdout",
          "text": [
            " Prime counts written to /content/drive/MyDrive/cryptography_assignment/OutPutSet.csv\n"
          ]
        }
      ]
    },
    {
      "cell_type": "code",
      "source": [],
      "metadata": {
        "id": "Er_DIU9IVi3U"
      },
      "execution_count": null,
      "outputs": []
    }
  ]
}